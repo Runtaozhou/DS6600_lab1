{
 "cells": [
  {
   "cell_type": "markdown",
   "id": "d227dd96-3b97-4759-bdbb-7441e97e1266",
   "metadata": {},
   "source": [
    "## Question 2"
   ]
  },
  {
   "cell_type": "raw",
   "id": "97e2abc3-d247-4ed7-9ca7-9463bdbeaa98",
   "metadata": {},
   "source": [
    "[[source]]\n",
    "url = \"https://pypi.org/simple\"\n",
    "verify_ssl = true\n",
    "name = \"pypi\"\n",
    "\n",
    "[packages]\n",
    "numpy = \"==1.25.2\"\n",
    "pandas = \"==2.0.3\"\n",
    "matplotlib = \"==3.7.2\"\n",
    "requests = \"==2.31.0\"\n",
    "jupyterlab = \"==4.0.5\"\n",
    "ipykernel = \"==6.25.1\"\n",
    "\n",
    "[dev-packages]\n",
    "\n",
    "[requires]\n",
    "python_version = \"3.11\"\n"
   ]
  },
  {
   "cell_type": "code",
   "execution_count": 1,
   "id": "ec70f37c-b4c9-4fbd-b3cc-bbf7f25f976c",
   "metadata": {},
   "outputs": [
    {
     "name": "stdout",
     "output_type": "stream",
     "text": [
      "Python 3.11.4\n"
     ]
    }
   ],
   "source": [
    "!python --version"
   ]
  },
  {
   "cell_type": "code",
   "execution_count": 2,
   "id": "b8f6fdc3-6bb1-4701-92cd-39bef8dcdf51",
   "metadata": {},
   "outputs": [],
   "source": [
    "import numpy \n",
    "import pandas \n",
    "import matplotlib\n",
    "import requests"
   ]
  },
  {
   "cell_type": "code",
   "execution_count": 3,
   "id": "ac43d99a-8a7f-479c-8dbb-2a1afe563273",
   "metadata": {},
   "outputs": [
    {
     "ename": "ModuleNotFoundError",
     "evalue": "No module named 'sklearn'",
     "output_type": "error",
     "traceback": [
      "\u001b[0;31m---------------------------------------------------------------------------\u001b[0m",
      "\u001b[0;31mModuleNotFoundError\u001b[0m                       Traceback (most recent call last)",
      "Cell \u001b[0;32mIn[3], line 1\u001b[0m\n\u001b[0;32m----> 1\u001b[0m \u001b[38;5;28;01mimport\u001b[39;00m \u001b[38;5;21;01msklearn\u001b[39;00m\n",
      "\u001b[0;31mModuleNotFoundError\u001b[0m: No module named 'sklearn'"
     ]
    }
   ],
   "source": [
    "import sklearn"
   ]
  },
  {
   "cell_type": "markdown",
   "id": "4d4524ac-ba5c-4c1b-af00-6b7a888ac881",
   "metadata": {},
   "source": [
    "## Question 3"
   ]
  },
  {
   "cell_type": "raw",
   "id": "1b8fd525-f966-4db6-9c13-b8e99649a5bf",
   "metadata": {},
   "source": [
    "a. In this case the container is the best suited for this task. The reason for this is that if you want to generalize your code and share your code with other chapters, Docker containers will able to do it well because they contain all the application, configuration, and dependencies in a consistent and portable manner so that don't have to worry about the operating systems and so on. Virtual environments and global environments are less preferred because it is not as easy to package and distribute your code to other people who want to use it in a different operating system. Compared with virtual machines, the containers are more lightweight and have faster startup. "
   ]
  },
  {
   "cell_type": "raw",
   "id": "be12a643-6e7c-447e-9fba-2d4401c7fdab",
   "metadata": {},
   "source": [
    "\n",
    "b. In this case, it is better to use a virtual machine to do the task. There are several reasons. First of all. Compared to containers, a virtual environment, global environment on a computer, the virtual machine is the most isolated. The benefit of isolation is that it is entirely separate from your own local computer which avoids conflicts and ensures reproducibility. Image processing tasks normally require a lot of computing capacity, Using virtual machines can utilize the extra computing capability that the cloud computing provider provides whereas the rest of the three methods have to use your computing resources from your own computer."
   ]
  },
  {
   "cell_type": "raw",
   "id": "cf194f0a-740c-40a9-a147-fd3476872c71",
   "metadata": {},
   "source": [
    "c. In this case, it would be easier to just do the task in the global environment of a single computer. cleaning data from Excel sheets and generating reports doesn't require complex software setup or dependencies. In this case, lower isolation means it is easier to access files if you are doing the task in your global environment than in virtual environments, containers, or virtual machines. since you are working with potentially sensitive data, keeping everything on your local computer is safer than exposing them to virtualized environments. "
   ]
  },
  {
   "cell_type": "raw",
   "id": "594498a5-3de8-4618-ab55-10c0da24e572",
   "metadata": {},
   "source": [
    "\n",
    "d. In this case, it is best suited to use a virtual environment for this task. Using a virtual environment, you can create new environments for projects using Python4 while having environments for projects using Python3. Higher isolation ensures that changes made on Python 4 won't affect your existing Python3 projects. Virtual environments are also resource-efficient compared to setting up containers or virtual machines."
   ]
  },
  {
   "cell_type": "markdown",
   "id": "724ff565-9eca-4f1a-8159-91f9c13b1359",
   "metadata": {},
   "source": [
    "## Question 4"
   ]
  },
  {
   "cell_type": "markdown",
   "id": "39df027e-f88d-48c6-b45d-fa9b3f7d86e0",
   "metadata": {},
   "source": [
    "### a "
   ]
  },
  {
   "cell_type": "raw",
   "id": "41bf6f74-846d-45a4-abea-200e78b34240",
   "metadata": {},
   "source": [
    "# syntax=docker/dockerfile:1\n",
    "\n",
    "FROM ubuntu:latest\n",
    "\n",
    "RUN apt-get update \n",
    "\n",
    "RUN apt-get install -y python3\n",
    "\n",
    "WORKDIR /data_engineering_lab1\n",
    "\n",
    "EXPOSE 8888\n",
    "\n",
    "CMD [\"python3\"]"
   ]
  },
  {
   "cell_type": "markdown",
   "id": "9eb1dc37-8592-4bce-83e1-613137951a74",
   "metadata": {},
   "source": [
    "### b"
   ]
  },
  {
   "cell_type": "raw",
   "id": "e3a17dc4-9166-4992-8bc1-076cef3631d4",
   "metadata": {},
   "source": [
    "(base) runtaozhou@Runtaos-Air DS6600_lab1 % docker build . -t lab1image\n",
    "[+] Building 20.7s (12/12) FINISHED                                             \n",
    " => [internal] load build definition from Dockerfile                       0.0s\n",
    " => => transferring dockerfile: 385B                                       0.0s\n",
    " => [internal] load .dockerignore                                          0.0s\n",
    " => => transferring context: 2B                                            0.0s\n",
    " => resolve image config for docker.io/docker/dockerfile:1                 2.3s\n",
    " => [auth] docker/dockerfile:pull token for registry-1.docker.io           0.0s\n",
    " => CACHED docker-image://docker.io/docker/dockerfile:1@sha256:ac85f380a6  0.0s\n",
    " => [internal] load metadata for docker.io/library/ubuntu:latest           1.2s\n",
    " => [auth] library/ubuntu:pull token for registry-1.docker.io              0.0s\n",
    " => [1/4] FROM docker.io/library/ubuntu:latest@sha256:aabed3296a3d45cede1  2.2s\n",
    " => => resolve docker.io/library/ubuntu:latest@sha256:aabed3296a3d45cede1  0.0s\n",
    " => => sha256:aabed3296a3d45cede1dc866a24476c4d7e093aa806 1.13kB / 1.13kB  0.0s\n",
    " => => sha256:94d12db896d07af18a04319f1023edd091629f558dcc29f 424B / 424B  0.0s\n",
    " => => sha256:6a47e077731f534f14de4df8639e35a1792a555b74e 2.32kB / 2.32kB  0.0s\n",
    " => => sha256:20274425734a05472f3772bae7ce7124a9832f5eb 27.35MB / 27.35MB  0.8s\n",
    " => => extracting sha256:20274425734a05472f3772bae7ce7124a9832f5eb168456d  1.2s\n",
    " => [2/4] RUN apt-get update                                               7.7s\n",
    " => [3/4] RUN apt-get install -y python3                                   7.0s\n",
    " => [4/4] WORKDIR /data_engineering_lab1                                   0.0s \n",
    " => exporting to image                                                     0.1s \n",
    " => => exporting layers                                                    0.1s \n",
    " => => writing image sha256:e5a590ef567251d28e5d783f44c67d8769bcc058e1c2a  0.0s \n",
    " => => naming to docker.io/library/lab1image                               0.0s\n"
   ]
  },
  {
   "cell_type": "raw",
   "id": "a7debf0f-52de-45ef-9005-28b2cc570beb",
   "metadata": {},
   "source": [
    "(base) runtaozhou@Runtaos-Air DS6600_lab1 % docker images\n",
    "REPOSITORY                        TAG       IMAGE ID       CREATED          SIZE\n",
    "lab1image                         latest    e5a590ef5672   36 seconds ago   139MB"
   ]
  },
  {
   "cell_type": "markdown",
   "id": "99746850-f05c-4423-ac4c-037229e045f4",
   "metadata": {},
   "source": [
    "### C"
   ]
  },
  {
   "cell_type": "raw",
   "id": "5db1da3c-a237-40dd-baea-5539ce23b45c",
   "metadata": {},
   "source": [
    "(base) runtaozhou@Runtaos-Air DS6600_lab1 % docker run -it lab1image\n",
    "Python 3.10.12 (main, Jun 11 2023, 05:26:28) [GCC 11.4.0] on linux\n",
    "Type \"help\", \"copyright\", \"credits\" or \"license\" for more information.\n",
    ">>> \n"
   ]
  },
  {
   "cell_type": "markdown",
   "id": "7077f32f-7fe8-4d2c-9806-411c336a9538",
   "metadata": {},
   "source": [
    "## Question5"
   ]
  },
  {
   "cell_type": "raw",
   "id": "805d6433-7d84-4d50-bbb2-a7770d1da8b1",
   "metadata": {},
   "source": [
    "      It is written in the Book of Set:\n",
    "                       \n",
    "                           After the Creation, the cruel god Moloch rebelled\n",
    "                           against the authority of Marduk the Creator.\n",
    "                           Moloch stole from Marduk the most powerful of all\n",
    "                           the artifacts of the gods, the Amulet of Yendor,\n",
    "                           and he hid it in the dark cavities of Gehennom, the\n",
    "                           Under World, where he now lurks, and bides his time.\n",
    "                       \n",
    "                       Your god Set seeks to possess the Amulet, and with it\n",
    "                       to gain deserved ascendance over the other gods.\n",
    "                       \n",
    "                       You, a newly trained Plunderess, have been heralded\n",
    "                       from birth as the instrument of Set.  You are destined\n",
    "                       to recover the Amulet for your deity, or die in the\n",
    "                       attempt.  Your hour of destiny has come.  For the sake\n",
    "                       of us all:  Go bravely with Set!\n",
    "                       --More--"
   ]
  },
  {
   "cell_type": "code",
   "execution_count": null,
   "id": "d4b987d7-a3b4-408f-a311-466dd3208972",
   "metadata": {},
   "outputs": [],
   "source": []
  }
 ],
 "metadata": {
  "kernelspec": {
   "display_name": "lab1-env",
   "language": "python",
   "name": "lab1-env"
  },
  "language_info": {
   "codemirror_mode": {
    "name": "ipython",
    "version": 3
   },
   "file_extension": ".py",
   "mimetype": "text/x-python",
   "name": "python",
   "nbconvert_exporter": "python",
   "pygments_lexer": "ipython3",
   "version": "3.11.4"
  }
 },
 "nbformat": 4,
 "nbformat_minor": 5
}
